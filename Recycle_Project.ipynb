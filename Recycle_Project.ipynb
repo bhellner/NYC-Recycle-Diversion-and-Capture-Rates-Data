{
 "cells": [
  {
   "cell_type": "markdown",
   "metadata": {},
   "source": [
    "-Capture Rate-Total is the measure of how much of the targeted materials are actually recycled, which is a measure of how successfully such materials are recycled\n",
    "\n",
    "# Some questions\n",
    "## can we find the best zone for each year (want to average the capture rates over the whole years to compare)\n",
    "-Can we find the best community district for each zone in each year\n",
    "-looking at months are some months better than others at recycling? is there a certain time of year? like January right after christmas when we have a lot more paper waste? \n",
    "-are any areas getting significantly worse than others over the years?\n",
    "\n",
    "-maybe looking at the diversion rate to determine who is producing the most trash that is not recyclable\n",
    "   (diversion rate and capture rate or some calculations???? dont think it can be done)\n",
    "   \n",
    "Capture rate is the amount of materials set out for residential recycling collection as a percentage of designated recyclable materials in both recycling and refuse streams. This ratio measures how much of the targeted materials are actually being recycled, which is a measure of how successfully such materials are recycled. \n",
    "\n",
    "Recycling Diversion rate (percentage of total municipal solid waste collected by the Department of Sanitation that is disposed of by recycling) and Capture Rate (percentage of total Paper or Metal/Glass/Plastic in the waste stream that is disposed of by recycling)"
   ]
  },
  {
   "cell_type": "markdown",
   "metadata": {},
   "source": [
    "## Importing data, renaming the column names, understanding the dataframe"
   ]
  },
  {
   "cell_type": "code",
   "execution_count": 1,
   "metadata": {},
   "outputs": [],
   "source": [
    "#importing the libraries\n",
    "import pandas as pd\n",
    "import numpy as np\n",
    "import matplotlib.pyplot as plt\n",
    "import seaborn as sns\n",
    "%matplotlib inline"
   ]
  },
  {
   "cell_type": "code",
   "execution_count": 2,
   "metadata": {},
   "outputs": [],
   "source": [
    "#importing the data\n",
    "df = pd.read_csv('NYC_Recycle.csv')"
   ]
  },
  {
   "cell_type": "code",
   "execution_count": 3,
   "metadata": {},
   "outputs": [
    {
     "data": {
      "text/html": [
       "<div>\n",
       "<style scoped>\n",
       "    .dataframe tbody tr th:only-of-type {\n",
       "        vertical-align: middle;\n",
       "    }\n",
       "\n",
       "    .dataframe tbody tr th {\n",
       "        vertical-align: top;\n",
       "    }\n",
       "\n",
       "    .dataframe thead th {\n",
       "        text-align: right;\n",
       "    }\n",
       "</style>\n",
       "<table border=\"1\" class=\"dataframe\">\n",
       "  <thead>\n",
       "    <tr style=\"text-align: right;\">\n",
       "      <th></th>\n",
       "      <th>Zone</th>\n",
       "      <th>District</th>\n",
       "      <th>Fiscal Month Number</th>\n",
       "      <th>Fiscal Year</th>\n",
       "      <th>Month Name</th>\n",
       "      <th>Diversion Rate-Total (Total Recycling / Total Waste)</th>\n",
       "      <th>Capture Rate-Paper (Total Paper / Max Paper)</th>\n",
       "      <th>Capture Rate-MGP (Total MGP / Max MGP)</th>\n",
       "      <th>Capture Rate-Total ((Total Recycling - Leaves (Recycling)) / (Max Paper + Max MGP))x100</th>\n",
       "    </tr>\n",
       "  </thead>\n",
       "  <tbody>\n",
       "    <tr>\n",
       "      <th>0</th>\n",
       "      <td>Brooklyn North</td>\n",
       "      <td>BKN01</td>\n",
       "      <td>10</td>\n",
       "      <td>2019</td>\n",
       "      <td>April</td>\n",
       "      <td>14.7</td>\n",
       "      <td>44.9</td>\n",
       "      <td>43.0</td>\n",
       "      <td>44.1</td>\n",
       "    </tr>\n",
       "    <tr>\n",
       "      <th>1</th>\n",
       "      <td>Brooklyn North</td>\n",
       "      <td>BKN02</td>\n",
       "      <td>10</td>\n",
       "      <td>2019</td>\n",
       "      <td>April</td>\n",
       "      <td>20.0</td>\n",
       "      <td>34.2</td>\n",
       "      <td>57.9</td>\n",
       "      <td>41.2</td>\n",
       "    </tr>\n",
       "    <tr>\n",
       "      <th>2</th>\n",
       "      <td>Brooklyn North</td>\n",
       "      <td>BKN03</td>\n",
       "      <td>10</td>\n",
       "      <td>2019</td>\n",
       "      <td>April</td>\n",
       "      <td>12.2</td>\n",
       "      <td>33.5</td>\n",
       "      <td>44.9</td>\n",
       "      <td>38.2</td>\n",
       "    </tr>\n",
       "    <tr>\n",
       "      <th>3</th>\n",
       "      <td>Brooklyn North</td>\n",
       "      <td>BKN04</td>\n",
       "      <td>10</td>\n",
       "      <td>2019</td>\n",
       "      <td>April</td>\n",
       "      <td>15.5</td>\n",
       "      <td>35.2</td>\n",
       "      <td>68.5</td>\n",
       "      <td>48.8</td>\n",
       "    </tr>\n",
       "    <tr>\n",
       "      <th>4</th>\n",
       "      <td>Brooklyn North</td>\n",
       "      <td>BKN05</td>\n",
       "      <td>10</td>\n",
       "      <td>2019</td>\n",
       "      <td>April</td>\n",
       "      <td>10.1</td>\n",
       "      <td>22.3</td>\n",
       "      <td>45.1</td>\n",
       "      <td>31.5</td>\n",
       "    </tr>\n",
       "  </tbody>\n",
       "</table>\n",
       "</div>"
      ],
      "text/plain": [
       "             Zone District  Fiscal Month Number  Fiscal Year Month Name  \\\n",
       "0  Brooklyn North    BKN01                   10         2019      April   \n",
       "1  Brooklyn North    BKN02                   10         2019      April   \n",
       "2  Brooklyn North    BKN03                   10         2019      April   \n",
       "3  Brooklyn North    BKN04                   10         2019      April   \n",
       "4  Brooklyn North    BKN05                   10         2019      April   \n",
       "\n",
       "   Diversion Rate-Total (Total Recycling / Total Waste)  \\\n",
       "0                                               14.7      \n",
       "1                                               20.0      \n",
       "2                                               12.2      \n",
       "3                                               15.5      \n",
       "4                                               10.1      \n",
       "\n",
       "   Capture Rate-Paper (Total Paper / Max Paper)  \\\n",
       "0                                          44.9   \n",
       "1                                          34.2   \n",
       "2                                          33.5   \n",
       "3                                          35.2   \n",
       "4                                          22.3   \n",
       "\n",
       "   Capture Rate-MGP (Total MGP / Max MGP)  \\\n",
       "0                                    43.0   \n",
       "1                                    57.9   \n",
       "2                                    44.9   \n",
       "3                                    68.5   \n",
       "4                                    45.1   \n",
       "\n",
       "   Capture Rate-Total ((Total Recycling - Leaves (Recycling)) / (Max Paper + Max MGP))x100  \n",
       "0                                               44.1                                        \n",
       "1                                               41.2                                        \n",
       "2                                               38.2                                        \n",
       "3                                               48.8                                        \n",
       "4                                               31.5                                        "
      ]
     },
     "execution_count": 3,
     "metadata": {},
     "output_type": "execute_result"
    }
   ],
   "source": [
    "df.head()"
   ]
  },
  {
   "cell_type": "code",
   "execution_count": 4,
   "metadata": {},
   "outputs": [
    {
     "name": "stdout",
     "output_type": "stream",
     "text": [
      "<class 'pandas.core.frame.DataFrame'>\n",
      "RangeIndex: 2832 entries, 0 to 2831\n",
      "Data columns (total 9 columns):\n",
      "Zone                                                                                       2832 non-null object\n",
      "District                                                                                   2832 non-null object\n",
      "Fiscal Month Number                                                                        2832 non-null int64\n",
      "Fiscal Year                                                                                2832 non-null int64\n",
      "Month Name                                                                                 2832 non-null object\n",
      "Diversion Rate-Total (Total Recycling / Total Waste)                                       2832 non-null float64\n",
      "Capture Rate-Paper (Total Paper / Max Paper)                                               2832 non-null float64\n",
      "Capture Rate-MGP (Total MGP / Max MGP)                                                     2832 non-null float64\n",
      "Capture Rate-Total ((Total Recycling - Leaves (Recycling)) / (Max Paper + Max MGP))x100    2832 non-null float64\n",
      "dtypes: float64(4), int64(2), object(3)\n",
      "memory usage: 199.2+ KB\n"
     ]
    }
   ],
   "source": [
    "df.info()"
   ]
  },
  {
   "cell_type": "code",
   "execution_count": 5,
   "metadata": {},
   "outputs": [],
   "source": [
    "#renaming dataframe columns to make the code easier to read\n",
    "df.rename(columns = {'Diversion Rate-Total (Total Recycling / Total Waste)':'Diversion Rate-Total','Capture Rate-Paper (Total Paper / Max Paper)':'Capture Rate-Paper','Capture Rate-MGP (Total MGP / Max MGP)':'Capture Rate-MGP','Capture Rate-Total ((Total Recycling - Leaves (Recycling)) / (Max Paper + Max MGP))x100':'Capture Rate-Total'}, inplace = True) "
   ]
  },
  {
   "cell_type": "code",
   "execution_count": 6,
   "metadata": {},
   "outputs": [
    {
     "data": {
      "text/html": [
       "<div>\n",
       "<style scoped>\n",
       "    .dataframe tbody tr th:only-of-type {\n",
       "        vertical-align: middle;\n",
       "    }\n",
       "\n",
       "    .dataframe tbody tr th {\n",
       "        vertical-align: top;\n",
       "    }\n",
       "\n",
       "    .dataframe thead th {\n",
       "        text-align: right;\n",
       "    }\n",
       "</style>\n",
       "<table border=\"1\" class=\"dataframe\">\n",
       "  <thead>\n",
       "    <tr style=\"text-align: right;\">\n",
       "      <th></th>\n",
       "      <th>Zone</th>\n",
       "      <th>District</th>\n",
       "      <th>Fiscal Month Number</th>\n",
       "      <th>Fiscal Year</th>\n",
       "      <th>Month Name</th>\n",
       "      <th>Diversion Rate-Total</th>\n",
       "      <th>Capture Rate-Paper</th>\n",
       "      <th>Capture Rate-MGP</th>\n",
       "      <th>Capture Rate-Total</th>\n",
       "    </tr>\n",
       "  </thead>\n",
       "  <tbody>\n",
       "    <tr>\n",
       "      <th>0</th>\n",
       "      <td>Brooklyn North</td>\n",
       "      <td>BKN01</td>\n",
       "      <td>10</td>\n",
       "      <td>2019</td>\n",
       "      <td>April</td>\n",
       "      <td>14.7</td>\n",
       "      <td>44.9</td>\n",
       "      <td>43.0</td>\n",
       "      <td>44.1</td>\n",
       "    </tr>\n",
       "    <tr>\n",
       "      <th>1</th>\n",
       "      <td>Brooklyn North</td>\n",
       "      <td>BKN02</td>\n",
       "      <td>10</td>\n",
       "      <td>2019</td>\n",
       "      <td>April</td>\n",
       "      <td>20.0</td>\n",
       "      <td>34.2</td>\n",
       "      <td>57.9</td>\n",
       "      <td>41.2</td>\n",
       "    </tr>\n",
       "    <tr>\n",
       "      <th>2</th>\n",
       "      <td>Brooklyn North</td>\n",
       "      <td>BKN03</td>\n",
       "      <td>10</td>\n",
       "      <td>2019</td>\n",
       "      <td>April</td>\n",
       "      <td>12.2</td>\n",
       "      <td>33.5</td>\n",
       "      <td>44.9</td>\n",
       "      <td>38.2</td>\n",
       "    </tr>\n",
       "    <tr>\n",
       "      <th>3</th>\n",
       "      <td>Brooklyn North</td>\n",
       "      <td>BKN04</td>\n",
       "      <td>10</td>\n",
       "      <td>2019</td>\n",
       "      <td>April</td>\n",
       "      <td>15.5</td>\n",
       "      <td>35.2</td>\n",
       "      <td>68.5</td>\n",
       "      <td>48.8</td>\n",
       "    </tr>\n",
       "    <tr>\n",
       "      <th>4</th>\n",
       "      <td>Brooklyn North</td>\n",
       "      <td>BKN05</td>\n",
       "      <td>10</td>\n",
       "      <td>2019</td>\n",
       "      <td>April</td>\n",
       "      <td>10.1</td>\n",
       "      <td>22.3</td>\n",
       "      <td>45.1</td>\n",
       "      <td>31.5</td>\n",
       "    </tr>\n",
       "  </tbody>\n",
       "</table>\n",
       "</div>"
      ],
      "text/plain": [
       "             Zone District  Fiscal Month Number  Fiscal Year Month Name  \\\n",
       "0  Brooklyn North    BKN01                   10         2019      April   \n",
       "1  Brooklyn North    BKN02                   10         2019      April   \n",
       "2  Brooklyn North    BKN03                   10         2019      April   \n",
       "3  Brooklyn North    BKN04                   10         2019      April   \n",
       "4  Brooklyn North    BKN05                   10         2019      April   \n",
       "\n",
       "   Diversion Rate-Total  Capture Rate-Paper  Capture Rate-MGP  \\\n",
       "0                  14.7                44.9              43.0   \n",
       "1                  20.0                34.2              57.9   \n",
       "2                  12.2                33.5              44.9   \n",
       "3                  15.5                35.2              68.5   \n",
       "4                  10.1                22.3              45.1   \n",
       "\n",
       "   Capture Rate-Total  \n",
       "0                44.1  \n",
       "1                41.2  \n",
       "2                38.2  \n",
       "3                48.8  \n",
       "4                31.5  "
      ]
     },
     "execution_count": 6,
     "metadata": {},
     "output_type": "execute_result"
    }
   ],
   "source": [
    "df.head()"
   ]
  },
  {
   "cell_type": "code",
   "execution_count": 7,
   "metadata": {},
   "outputs": [
    {
     "name": "stdout",
     "output_type": "stream",
     "text": [
      "<class 'pandas.core.frame.DataFrame'>\n",
      "RangeIndex: 2832 entries, 0 to 2831\n",
      "Data columns (total 9 columns):\n",
      "Zone                    2832 non-null object\n",
      "District                2832 non-null object\n",
      "Fiscal Month Number     2832 non-null int64\n",
      "Fiscal Year             2832 non-null int64\n",
      "Month Name              2832 non-null object\n",
      "Diversion Rate-Total    2832 non-null float64\n",
      "Capture Rate-Paper      2832 non-null float64\n",
      "Capture Rate-MGP        2832 non-null float64\n",
      "Capture Rate-Total      2832 non-null float64\n",
      "dtypes: float64(4), int64(2), object(3)\n",
      "memory usage: 199.2+ KB\n"
     ]
    }
   ],
   "source": [
    "df.info()"
   ]
  },
  {
   "cell_type": "code",
   "execution_count": 8,
   "metadata": {},
   "outputs": [
    {
     "data": {
      "text/plain": [
       "2019    708\n",
       "2017    708\n",
       "2018    708\n",
       "2016    708\n",
       "Name: Fiscal Year, dtype: int64"
      ]
     },
     "execution_count": 8,
     "metadata": {},
     "output_type": "execute_result"
    }
   ],
   "source": [
    "df['Fiscal Year'].value_counts()"
   ]
  },
  {
   "cell_type": "code",
   "execution_count": 9,
   "metadata": {},
   "outputs": [
    {
     "data": {
      "text/plain": [
       "Bronx             576\n",
       "Manhattan         576\n",
       "Brooklyn North    432\n",
       "Brooklyn South    432\n",
       "Queens West       336\n",
       "Queens East       336\n",
       "Staten Island     144\n",
       "Name: Zone, dtype: int64"
      ]
     },
     "execution_count": 9,
     "metadata": {},
     "output_type": "execute_result"
    }
   ],
   "source": [
    "df['Zone'].value_counts()"
   ]
  },
  {
   "cell_type": "markdown",
   "metadata": {},
   "source": [
    "## What is the best Zone for recycling?\n",
    "\n",
    "Want to get the average of the capture rate-total for each year for each zone and plot them on a scatterplot \n"
   ]
  },
  {
   "cell_type": "code",
   "execution_count": 10,
   "metadata": {},
   "outputs": [
    {
     "data": {
      "image/png": "[encoded data removed]",
      "text/plain": [
       "<Figure size 432x288 with 1 Axes>"
      ]
     },
     "metadata": {
      "needs_background": "light"
     },
     "output_type": "display_data"
    }
   ],
   "source": [
    "sns.scatterplot(x='Fiscal Year', y='Capture Rate-Total', hue = 'Zone',data=df)\n",
    "plt.legend(bbox_to_anchor=(1.05, 1), loc=2, borderaxespad=0.)\n",
    "plt.show()"
   ]
  },
  {
   "cell_type": "markdown",
   "metadata": {},
   "source": [
    "This initial plot of Capture Rate-Total over the 4 years gives an idea that the Bronx and Brooklyn North produce the least amount of recyclable material, while Queens East and Brooklyn South produce the most. This will be looked at closer with a less cluttered plot later on. "
   ]
  },
  {
   "cell_type": "code",
   "execution_count": 11,
   "metadata": {},
   "outputs": [],
   "source": [
    "# Dataframes based on Zone\n",
    "df_Manhattan = df[df['Zone']=='Manhattan']\n",
    "df_Bronx = df[df['Zone']=='Bronx']\n",
    "df_BrooklynSouth = df[df['Zone']=='Brooklyn South']\n",
    "df_BrooklynNorth = df[df['Zone']=='Brooklyn North']\n",
    "df_QueensWest = df[df['Zone']=='Queens West']\n",
    "df_QueensEast = df[df['Zone']=='Queens East']\n",
    "df_StatenIsland = df[df['Zone']=='Staten Island']"
   ]
  },
  {
   "cell_type": "code",
   "execution_count": 12,
   "metadata": {},
   "outputs": [],
   "source": [
    "# Calculating the mean Capture Rate Total for each year for each Zone dataframe\n",
    "Av_CRT_Manhattan = df_Manhattan.groupby('Fiscal Year')['Capture Rate-Total'].mean()\n",
    "Av_CRT_Bronx = df_Bronx.groupby('Fiscal Year')['Capture Rate-Total'].mean()\n",
    "Av_CRT_BrooklynSouth = df_BrooklynSouth.groupby('Fiscal Year')['Capture Rate-Total'].mean()\n",
    "Av_CRT_BrooklynNorth = df_BrooklynNorth.groupby('Fiscal Year')['Capture Rate-Total'].mean()\n",
    "Av_CRT_QueensWest = df_QueensWest.groupby('Fiscal Year')['Capture Rate-Total'].mean()\n",
    "Av_CRT_QueensEast = df_QueensEast.groupby('Fiscal Year')['Capture Rate-Total'].mean()\n",
    "Av_CRT_StatenIsland = df_StatenIsland.groupby('Fiscal Year')['Capture Rate-Total'].mean()"
   ]
  },
  {
   "cell_type": "code",
   "execution_count": 13,
   "metadata": {},
   "outputs": [
    {
     "data": {
      "image/png": "[encoded data removed]",
      "text/plain": [
       "<Figure size 576x576 with 1 Axes>"
      ]
     },
     "metadata": {
      "needs_background": "light"
     },
     "output_type": "display_data"
    }
   ],
   "source": [
    "# Combining the dataframes to plot\n",
    "Average_CaptureRateTotal = pd.DataFrame({'Manhattan': Av_CRT_Manhattan, 'Bronx': Av_CRT_Bronx, 'Brooklyn South': Av_CRT_BrooklynSouth,'Brooklyn North': Av_CRT_BrooklynNorth,'Queens West': Av_CRT_QueensWest, 'Queens East': Av_CRT_QueensEast, 'Staten Island':Av_CRT_StatenIsland})\n",
    "\n",
    "plt.figure(figsize=(8,8))\n",
    "sns.scatterplot(data=Average_CaptureRateTotal)\n",
    "sns.despine()\n",
    "plt.legend(bbox_to_anchor=(1.05, 1), loc=2, borderaxespad=0.)\n",
    "plt.yticks(np.arange(35,60,5))\n",
    "plt.xticks(np.arange(2015,2020, 1))\n",
    "plt.title('Average Capture Rate Total in Percentage')\n",
    "plt.ylabel('Average Capture Rate Percentage')\n",
    "plt.show()"
   ]
  },
  {
   "cell_type": "markdown",
   "metadata": {},
   "source": [
    "The results show when you take the averages over each year (12 data points/month) a difference compared to the plot of all the data. The averages show that each year Staten Island is consistently (over 4 years) the best at producing the most recyclables, while Brooklyn North has been consisently the worst. These differences are most likely due to the range of the data points influencing the average. Meaning Queens East and the Bronx have larger ranges causing their averages to be lower and outliers in datapoints."
   ]
  },
  {
   "cell_type": "code",
   "execution_count": 21,
   "metadata": {},
   "outputs": [],
   "source": [
    "# Show the larger spread between the min and max are the reason for the differences/conclusions between graph 1 and 2\n",
    "CRT_Manhattan_min = df_Manhattan.groupby('Fiscal Year')['Capture Rate-Total'].min()\n",
    "CRT_Manhattan_max = df_Manhattan.groupby('Fiscal Year')['Capture Rate-Total'].max()\n",
    "\n",
    "CRT_Bronx_min = df_Bronx.groupby('Fiscal Year')['Capture Rate-Total'].min()\n",
    "CRT_Bronx_max = df_Bronx.groupby('Fiscal Year')['Capture Rate-Total'].max()\n",
    "\n",
    "CRT_BrooklynSouth_min = df_BrooklynSouth.groupby('Fiscal Year')['Capture Rate-Total'].min()\n",
    "CRT_BrooklynSouth_max = df_BrooklynSouth.groupby('Fiscal Year')['Capture Rate-Total'].max()\n",
    "\n",
    "CRT_BrooklynNorth_min = df_BrooklynNorth.groupby('Fiscal Year')['Capture Rate-Total'].min()\n",
    "CRT_BrooklynNorth_max = df_BrooklynNorth.groupby('Fiscal Year')['Capture Rate-Total'].max()\n",
    "\n",
    "CRT_QueensWest_min = df_QueensWest.groupby('Fiscal Year')['Capture Rate-Total'].min()\n",
    "CRT_QueensWest_max = df_QueensWest.groupby('Fiscal Year')['Capture Rate-Total'].max()\n",
    "\n",
    "CRT_QueensEast_min = df_QueensEast.groupby('Fiscal Year')['Capture Rate-Total'].min()\n",
    "CRT_QueensEast_max = df_QueensEast.groupby('Fiscal Year')['Capture Rate-Total'].max()\n",
    "\n",
    "CRT_StatenIsland_min = df_StatenIsland.groupby('Fiscal Year')['Capture Rate-Total'].min()\n",
    "CRT_StatenIsland_max = df_StatenIsland.groupby('Fiscal Year')['Capture Rate-Total'].max()"
   ]
  },
  {
   "cell_type": "code",
   "execution_count": 39,
   "metadata": {},
   "outputs": [
    {
     "data": {
      "image/png": "[encoded data removed]",
      "text/plain": [
       "<Figure size 576x576 with 1 Axes>"
      ]
     },
     "metadata": {
      "needs_background": "light"
     },
     "output_type": "display_data"
    }
   ],
   "source": [
    "# Max-min to show the difference in the dataframes Bronx and Queens east should have a larger difference\n",
    "\n",
    "Manhattan_diff = CRT_Manhattan_max.subtract(CRT_Manhattan_min) \n",
    "Bronx_diff = CRT_Bronx_max.subtract(CRT_Bronx_min)\n",
    "BrooklynSouth_diff = CRT_BrooklynSouth_max.subtract(CRT_BrooklynSouth_min)\n",
    "BrooklynNorth_diff = CRT_BrooklynNorth_max.subtract(CRT_BrooklynNorth_min)\n",
    "QueensWest_diff = CRT_QueensWest_max.subtract(CRT_QueensWest_min)\n",
    "QueensEast_diff = CRT_QueensEast_max.subtract(CRT_QueensEast_min) \n",
    "StatenIsland_diff = CRT_StatenIsland_max.subtract(CRT_StatenIsland_min)  \n",
    "\n",
    "Difference = pd.DataFrame({'Manhattan': Manhattan_diff,'Bronx':Bronx_diff,'Brooklyn South':BrooklynSouth_diff,\n",
    "                           'Brooklyn North':BrooklynNorth_diff,'Queens West':QueensWest_diff,\n",
    "                           'Queens East':QueensEast_diff,'Staten Island': StatenIsland_diff})\n",
    "                                        \n",
    "    \n",
    "plt.figure(figsize=(8,8))\n",
    "sns.scatterplot(data=Difference)\n",
    "sns.despine()\n",
    "plt.legend(bbox_to_anchor=(1.05, 1), loc=2, borderaxespad=0.)\n",
    "plt.yticks(np.arange(20,50,5))\n",
    "plt.xticks(np.arange(2015,2020, 1))\n",
    "plt.title('Difference between max and min of Capture Rate Total')\n",
    "plt.ylabel('Difference')\n",
    "plt.show()"
   ]
  },
  {
   "cell_type": "markdown",
   "metadata": {},
   "source": [
    "The difference between the min and max shows that the largest difference is for Queens East and the Bronx. This explains why from Graph 1 they look like the best/worst performers and in Graph 2 end up in the middle. "
   ]
  },
  {
   "cell_type": "markdown",
   "metadata": {},
   "source": [
    "# Best Community District for each zone?\n",
    "-Can we find the best community district for each zone in each year"
   ]
  },
  {
   "cell_type": "code",
   "execution_count": null,
   "metadata": {},
   "outputs": [],
   "source": []
  },
  {
   "cell_type": "code",
   "execution_count": null,
   "metadata": {},
   "outputs": [],
   "source": []
  },
  {
   "cell_type": "code",
   "execution_count": null,
   "metadata": {},
   "outputs": [],
   "source": [
    "#may not need\n",
    "\n",
    "Average_Min_Max = pd.DataFrame({'Manhattan Min':CRT_Manhattan_min,'Manhattan Max':CRT_Manhattan_max, \n",
    "                                'Bronx Min':CRT_Bronx_min,'Bronx Max':CRT_Bronx_max,\n",
    "                                'Brooklyn South Min':CRT_BrooklynSouth_min,'Brooklyn South Max':CRT_BrooklynSouth_max,\n",
    "                               'Brooklyn North Min': CRT_BrooklynNorth_min, 'Brooklyn North Max': CRT_BrooklynNorth_max,\n",
    "                                'Queens West Min':CRT_QueensWest_min,'Queens West Max':CRT_QueensWest_max,\n",
    "                                'Queens East Min':CRT_QueensWest_min,'Queens East Max':CRT_QueensWest_max,\n",
    "                                'Staten Island Min':CRT_StatenIsland_min,'Staten Island Max':CRT_StatenIsland_max})\n",
    "\n",
    "filled_markers = ('o', 'v', '^', '<', '>', '8', 's', 'p', '*', 'h', 'H', 'D', 'd', 'P', 'X')\n",
    "\n",
    "plt.figure(figsize=(8,8))\n",
    "sns.scatterplot(data=Average_Min_Max, markers=filled_markers)\n",
    "sns.despine()\n",
    "plt.legend(bbox_to_anchor=(1.05, 1), loc=2, borderaxespad=0.)\n",
    "plt.yticks(np.arange(20,60,5))\n",
    "plt.xticks(np.arange(2015,2020, 1))\n",
    "plt.title('Min/Max Average Capture Rate Total in Percentage')\n",
    "plt.ylabel('Average Capture Rate Percentage')\n",
    "plt.show()"
   ]
  },
  {
   "cell_type": "code",
   "execution_count": null,
   "metadata": {},
   "outputs": [],
   "source": [
    "#12 months to take the average of, find the min and max month of each year too (not just value)"
   ]
  }
 ],
 "metadata": {
  "kernelspec": {
   "display_name": "Python 3",
   "language": "python",
   "name": "python3"
  },
  "language_info": {
   "codemirror_mode": {
    "name": "ipython",
    "version": 3
   },
   "file_extension": ".py",
   "mimetype": "text/x-python",
   "name": "python",
   "nbconvert_exporter": "python",
   "pygments_lexer": "ipython3",
   "version": "3.7.3"
  }
 },
 "nbformat": 4,
 "nbformat_minor": 2
}
